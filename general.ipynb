{
  "cells": [
    {
      "cell_type": "code",
      "execution_count": null,
      "metadata": {
        "id": "NTxnoX0bNbS5"
      },
      "outputs": [],
      "source": [
        "def displayMaze(maze, displayState, steps):\n",
        "    # create a new figure\n",
        "    plt.figure(figsize=(10, 5))\n",
        "\n",
        "    # display the maze\n",
        "    plt.imshow(maze, cmap=plt.cm.viridis, interpolation='nearest')\n",
        "    plt.xticks([]), plt.yticks([])\n",
        "    # label the graph with the number of steps taken\n",
        "    if steps > 0:\n",
        "        plt.title(\"Steps: \" + str(steps))\n",
        "\n",
        "    if displayState:\n",
        "        plt.show()\n",
        "\n",
        "def createMP4(name, imgDirPath):\n",
        "    # find the number of images in the folder\n",
        "    numImages = len(os.listdir(imgDirPath))\n",
        "    \n",
        "    with imageio.get_writer(name + '.mp4', mode='I') as writer:\n",
        "        # for each screenshot\n",
        "        for i in range(1, numImages + 1):\n",
        "            # read the screenshot\n",
        "            image = imageio.imread(imgDirPath + \"/\" + str(i) + \".png\")\n",
        "            # add the screenshot to the video\n",
        "            writer.append_data(image)\n",
        "    \n",
        "    # delete the screenshots\n",
        "    for i in range(1, numImages + 1):\n",
        "        os.remove(imgDirPath + \"/\" + str(i) + \".png\")\n",
        "        \n",
        "    \n",
        "    # speed up the video by a factor of 3x speed up\n",
        "    os.system(\"ffmpeg -i \" + name + \".mp4 -filter:v \\\"setpts=0.333*PTS\\\" \" + name + \"SpedUp.mp4 -y\")"
      ]
    },
    {
      "cell_type": "code",
      "execution_count": null,
      "metadata": {
        "colab": {
          "base_uri": "https://localhost:8080/"
        },
        "id": "jrJ7fZQINe4F",
        "outputId": "8609e967-ca1b-4239-c82a-e4133bbad5f8"
      },
      "outputs": [
        {
          "name": "stdout",
          "output_type": "stream",
          "text": [
            "Looking in indexes: https://pypi.org/simple, https://us-python.pkg.dev/colab-wheels/public/simple/\n",
            "Collecting mazelib\n",
            "  Downloading mazelib-0.9.13.tar.gz (1.6 MB)\n",
            "\u001b[2K     \u001b[90m━━━━━━━━━━━━━━━━━━━━━━━━━━━━━━━━━━━━━━━━\u001b[0m \u001b[32m1.6/1.6 MB\u001b[0m \u001b[31m18.7 MB/s\u001b[0m eta \u001b[36m0:00:00\u001b[0m\n",
            "\u001b[?25h  Preparing metadata (setup.py) ... \u001b[?25l\u001b[?25hdone\n",
            "Requirement already satisfied: matplotlib in /usr/local/lib/python3.10/dist-packages (3.7.1)\n",
            "Collecting cython<=0.29.27,>=0.27.0\n",
            "  Downloading Cython-0.29.27-cp310-cp310-manylinux_2_17_x86_64.manylinux2014_x86_64.manylinux_2_24_x86_64.whl (1.9 MB)\n",
            "\u001b[2K     \u001b[90m━━━━━━━━━━━━━━━━━━━━━━━━━━━━━━━━━━━━━━━━\u001b[0m \u001b[32m1.9/1.9 MB\u001b[0m \u001b[31m71.7 MB/s\u001b[0m eta \u001b[36m0:00:00\u001b[0m\n",
            "\u001b[?25hCollecting numpy<=1.22.1,>=1.13.1\n",
            "  Using cached numpy-1.22.1-cp310-cp310-manylinux_2_17_x86_64.manylinux2014_x86_64.whl (16.8 MB)\n",
            "Requirement already satisfied: fonttools>=4.22.0 in /usr/local/lib/python3.10/dist-packages (from matplotlib) (4.39.3)\n",
            "Requirement already satisfied: pillow>=6.2.0 in /usr/local/lib/python3.10/dist-packages (from matplotlib) (8.4.0)\n",
            "Requirement already satisfied: kiwisolver>=1.0.1 in /usr/local/lib/python3.10/dist-packages (from matplotlib) (1.4.4)\n",
            "Requirement already satisfied: python-dateutil>=2.7 in /usr/local/lib/python3.10/dist-packages (from matplotlib) (2.8.2)\n",
            "Requirement already satisfied: pyparsing>=2.3.1 in /usr/local/lib/python3.10/dist-packages (from matplotlib) (3.0.9)\n",
            "Requirement already satisfied: contourpy>=1.0.1 in /usr/local/lib/python3.10/dist-packages (from matplotlib) (1.0.7)\n",
            "Requirement already satisfied: packaging>=20.0 in /usr/local/lib/python3.10/dist-packages (from matplotlib) (23.1)\n",
            "Requirement already satisfied: cycler>=0.10 in /usr/local/lib/python3.10/dist-packages (from matplotlib) (0.11.0)\n",
            "Requirement already satisfied: six>=1.5 in /usr/local/lib/python3.10/dist-packages (from python-dateutil>=2.7->matplotlib) (1.16.0)\n",
            "Building wheels for collected packages: mazelib\n",
            "  Building wheel for mazelib (setup.py) ... \u001b[?25l\u001b[?25hdone\n",
            "  Created wheel for mazelib: filename=mazelib-0.9.13-cp310-cp310-linux_x86_64.whl size=5288119 sha256=5e2f6390f7b363feec75cf45898b0a4a2a909157efe9047e6bf17025ca04278f\n",
            "  Stored in directory: /root/.cache/pip/wheels/5c/58/cc/8618d08ccb34d008d3c4de7bd00c5cb319cfc45d3a81df5a5c\n",
            "Successfully built mazelib\n",
            "Installing collected packages: numpy, cython, mazelib\n",
            "  Attempting uninstall: numpy\n",
            "    Found existing installation: numpy 1.22.4\n",
            "    Uninstalling numpy-1.22.4:\n",
            "      Successfully uninstalled numpy-1.22.4\n",
            "  Attempting uninstall: cython\n",
            "    Found existing installation: Cython 0.29.34\n",
            "    Uninstalling Cython-0.29.34:\n",
            "      Successfully uninstalled Cython-0.29.34\n",
            "\u001b[31mERROR: pip's dependency resolver does not currently take into account all the packages that are installed. This behaviour is the source of the following dependency conflicts.\n",
            "librosa 0.10.0.post2 requires numpy!=1.22.0,!=1.22.1,!=1.22.2,>=1.20.3, but you have numpy 1.22.1 which is incompatible.\u001b[0m\u001b[31m\n",
            "\u001b[0mSuccessfully installed cython-0.29.27 mazelib-0.9.13 numpy-1.22.1\n"
          ]
        }
      ],
      "source": [
        "!pip install mazelib matplotlib"
      ]
    },
    {
      "cell_type": "code",
      "execution_count": null,
      "metadata": {
        "id": "Ff1KKgDVNbS6"
      },
      "outputs": [],
      "source": [
        "# import backtracking from mazelib package\n",
        "from mazelib import Maze\n",
        "from mazelib.generate.BacktrackingGenerator import BacktrackingGenerator\n",
        "\n",
        "import matplotlib.pyplot as plt\n",
        "import numpy as np\n",
        "import random\n",
        "import math\n",
        "import time\n",
        "import sys\n",
        "import os\n",
        "import imageio.v2 as imageio\n",
        "\n",
        "global bfsTime\n",
        "global dfsTime\n",
        "global bfsSteps\n",
        "global dfsSteps\n",
        "bfsTime = []\n",
        "dfsTime = []\n",
        "bfsSteps = []\n",
        "dfsSteps = []\n",
        "\n",
        "inputHeight = 0\n",
        "inputWidth = 0\n",
        "\n",
        "def generateMaze():\n",
        "  # get the height and width of the maze from the user\n",
        "  while True:\n",
        "      try:\n",
        "          \n",
        "          height = (int(input(\"Enter the height of the maze: \")) + 1) // 2\n",
        "          width = (int(input(\"Enter the width of the maze: \"))  + 1) // 2\n",
        "          break\n",
        "      except ValueError:\n",
        "          print(\"Please enter a valid integer.\")\n",
        "\n",
        "  # print the height and width of the maze \n",
        "  print(\"Generating a maze with a height of\", height, \"and a width of\", width)\n",
        "  # create a maze object\n",
        "  newMaze = Maze()\n",
        "  maze_generator = BacktrackingGenerator(width, height)\n",
        "  newMaze = maze_generator.generate()\n",
        "\n",
        "  # print the maze\n",
        "  print(newMaze)\n",
        "\n",
        "  newHeight = newMaze.shape[0]\n",
        "  newWidth = newMaze.shape[1]\n",
        "  print(\"The height of the maze is\", newHeight, \"and the width of the maze is\", newWidth)\n",
        "\n",
        "  # ensure that the maze is solvable by creating an entrance and exit in a random location on the top and bottom of the maze which must be connected to a 0 in the maze\n",
        "  # create a list of all the 0s in the first and last row of the maze\n",
        "  topRow = []\n",
        "  bottomRow = []\n",
        "  for i in range(newWidth):\n",
        "      if newMaze[1][i] == 0:\n",
        "          topRow.append(i)\n",
        "      if newMaze[newHeight - 2][i] == 0:\n",
        "          bottomRow.append(i)\n",
        "\n",
        "  # randomly select a 0 from the top1 and bottom row\n",
        "  top = random.choice(topRow)\n",
        "  bottom = random.choice(bottomRow)\n",
        "\n",
        "  # create an entrance and exit in the maze\n",
        "  newMaze[0][top] = 0\n",
        "  newMaze[newHeight - 1][bottom] = 0\n",
        "\n",
        "  displayMaze(newMaze, True, 0)\n",
        "  return newMaze"
      ]
    },
    {
      "cell_type": "code",
      "execution_count": null,
      "metadata": {
        "id": "FsykhgQSNbS8"
      },
      "outputs": [],
      "source": [
        "def findNeighbors(node, maze):\n",
        "    # measure the height and width of the maze\n",
        "    height = maze.shape[0]\n",
        "    width = maze.shape[1]\n",
        "\n",
        "    # create a list to store the neighbors of the node\n",
        "    neighbors = []\n",
        "\n",
        "    # if the node is not on the top row\n",
        "    if node[0] != 0:\n",
        "        # if the node is not a wall\n",
        "        if maze[node[0] - 1][node[1]] == 0:\n",
        "            # add the node above to the neighbors list\n",
        "            neighbors.append((node[0] - 1, node[1]))\n",
        "\n",
        "    # if the node is not on the bottom row\n",
        "    if node[0] != height - 1:\n",
        "        # if the node is not a wall\n",
        "        if maze[node[0] + 1][node[1]] == 0:\n",
        "            # add the node below to the neighbors list\n",
        "            neighbors.append((node[0] + 1, node[1]))\n",
        "\n",
        "    # if the node is not on the left side\n",
        "    if node[1] != 0:\n",
        "        # if the node is not a wall\n",
        "        if maze[node[0]][node[1] - 1] == 0:\n",
        "            # add the node to the left to the neighbors list\n",
        "            neighbors.append((node[0], node[1] - 1))\n",
        "\n",
        "    # if the node is not on the right side\n",
        "    if node[1] != width - 1:\n",
        "        # if the node is not a wall\n",
        "        if maze[node[0]][node[1] + 1] == 0:\n",
        "            # add the node to the right to the neighbors list\n",
        "            neighbors.append((node[0], node[1] + 1))\n",
        "\n",
        "    # return the neighbors list\n",
        "    return neighbors"
      ]
    },
    {
      "cell_type": "code",
      "execution_count": null,
      "metadata": {
        "id": "VTDn8NRrNbS9"
      },
      "outputs": [],
      "source": [
        "# animate the solving of the maze using BFS by taking a screenshot of each step and saving it to a folder and at the end creating a video of the screenshots to show the solving of the maze\n",
        "def BFS(maze, bfsTime, bfsSteps):\n",
        "    stepCount = 0\n",
        "\n",
        "    # used to measure the time it takes to run BFS\n",
        "    start_time = time.time()\n",
        "\n",
        "    # measure the height and width of the maze\n",
        "    height = maze.shape[0]\n",
        "    width = maze.shape[1]\n",
        "\n",
        "    # find the entrance and exit of the maze in the first and last row\n",
        "    for i in range(width):\n",
        "        if maze[0][i] == 0:\n",
        "            start = (0, i)\n",
        "        if maze[height - 1][i] == 0:\n",
        "            end = (height - 1, i)\n",
        "\n",
        "    # create a queue to store the nodes to be visited\n",
        "    queue = []\n",
        "    # add the start node to the queue\n",
        "    queue.append(start)\n",
        "\n",
        "    visited = []\n",
        "    # create a dictionary to store the parent of each node\n",
        "    parent = {}\n",
        "    # set the parent of the start node to None\n",
        "    parent[start] = None\n",
        "\n",
        "    stepCount = 0\n",
        "\n",
        "    # while the queue is not empty\n",
        "    while queue:\n",
        "        # increment the step count\n",
        "        stepCount += 1\n",
        "\n",
        "        # remove the first node from the queue\n",
        "        node = queue.pop(0)\n",
        "\n",
        "        # if the node is the end node\n",
        "        if node == end:\n",
        "            # break out of the loop\n",
        "            break\n",
        "\n",
        "        # if the node has not been visited\n",
        "        if node not in visited:\n",
        "            # add the node to the visited list\n",
        "            visited.append(node)\n",
        "\n",
        "            # find the neighbors of the node\n",
        "            neighbors = findNeighbors(node, maze)\n",
        "\n",
        "            # for each neighbor of the node\n",
        "            for neighbor in neighbors:\n",
        "                # if the neighbor has not been visited\n",
        "                if neighbor not in visited:\n",
        "                    # add the neighbor to the queue\n",
        "                    queue.append(neighbor)\n",
        "                    # set the parent of the neighbor to the node\n",
        "                    parent[neighbor] = node\n",
        "\n",
        "        # create a copy of the maze\n",
        "        mazeCopy = maze.copy()\n",
        "        for v in visited:\n",
        "            mazeCopy[v[0]][v[1]] = 2 \n",
        "\n",
        "        for q in queue:\n",
        "            mazeCopy[q[0]][q[1]] = 3 \n",
        "\n",
        "        displayMaze(mazeCopy, False, stepCount)\n",
        "        plt.savefig(\"BFS/\" + str(len(visited)) + \".png\")\n",
        "        plt.close()\n",
        "\n",
        "    # This will be used to store the path from start to end\n",
        "    path = []\n",
        "\n",
        "    # Add the end node to the path\n",
        "    path.append(end)\n",
        "\n",
        "    # Check if the end node has a parent\n",
        "    while end in parent:\n",
        "        # stepCount += 1\n",
        "        # If the end node has a parent, get the parent\n",
        "        end = parent[end]\n",
        "        # Add the parent to the path list\n",
        "        path.append(end)\n",
        "\n",
        "    # Reverse the path list\n",
        "    path.reverse()\n",
        "    path.pop(0)\n",
        "    print(path)\n",
        "    # This code creates a copy of the maze and sets the path to be colored. It then displays the image and saves it in the BFS folder with a name corresponding to the number of nodes visited.\n",
        "\n",
        "    # measure the time it takes to run BFS\n",
        "    end_time = time.time()\n",
        "    elapsed_time = end_time - start_time\n",
        "    stepCount = len(visited)\n",
        "    bfsTime.append(elapsed_time)\n",
        "    bfsSteps.append(stepCount)\n",
        "    print(f\"Elapsed time for Breadth-First Search: {elapsed_time} \\| Steps: {stepCount}\")\n",
        "\n",
        "    # Create a copy of the maze\n",
        "    mazeCopy = maze.copy()\n",
        "\n",
        "    currentNumFiles = len(os.listdir(\"BFS\"))\n",
        "\n",
        "    # For each node in the path\n",
        "    for node in path:\n",
        "        # If the node is not the start node\n",
        "        if node != start:\n",
        "            # Set the node to be colored\n",
        "            mazeCopy[node[0]][node[1]] = 10 \n",
        "            # Display the maze in the background and add the screenshot to the BFS folder with a name corresponding to the number of nodes visited plus the initial number of files in the BFS folder\n",
        "            displayMaze(mazeCopy, False, stepCount)\n",
        "            plt.savefig(\"BFS/\" + str(currentNumFiles + len(path) - path.index(node)) + \".png\")\n",
        "            plt.close()\n",
        "    \n",
        "    # Call the createMP4 function to create a video of the screenshots with the parameters of the name of the file and the folder the screenshots are in\n",
        "    createMP4(\"BFS\", \"BFS\")\n",
        "\n",
        "# BFS(newMaze, bfsTime, bfsSteps)"
      ]
    },
    {
      "cell_type": "code",
      "execution_count": null,
      "metadata": {
        "id": "ZVtGBd-lNbS9"
      },
      "outputs": [],
      "source": [
        "# animate the solving of the maze using DFS by taking a screenshot of each step and saving it to a folder and at the end creating a video of the screenshots to show the solving of the maze\n",
        "def DFS(maze, dfsTime, dfsSteps):\n",
        "    # used to measure the time it takes to run DFS\n",
        "    start_time = time.time()\n",
        "    stepCount = 0\n",
        "\n",
        "    # measure the height and width of the maze\n",
        "    height = maze.shape[0]\n",
        "    width = maze.shape[1]\n",
        "    # find the entrance and exit of the maze in the first and last row\n",
        "    for i in range(width):\n",
        "        if maze[0][i] == 0:\n",
        "            start = (0, i)\n",
        "        if maze[height - 1][i] == 0:\n",
        "            end = (height - 1, i)\n",
        "    \n",
        "    # create a stack to store the nodes to be visited\n",
        "    stack = []\n",
        "    # add the start node to the stack\n",
        "    stack.append(start)\n",
        "\n",
        "    visited = []\n",
        "    # create a dictionary to store the parent of each node\n",
        "    parent = {}\n",
        "    # set the parent of the start node to None\n",
        "    parent[start] = None\n",
        "    while stack:\n",
        "        node = stack.pop()\n",
        "        if node == end:\n",
        "            break\n",
        "        # if the node has not been visited\n",
        "        if node not in visited:\n",
        "            # add the node to the visited list\n",
        "            visited.append(node)\n",
        "\n",
        "            # find the neighbors of the node\n",
        "            neighbors = findNeighbors(node, maze)\n",
        "\n",
        "            # for each neighbor of the node\n",
        "            for neighbor in neighbors:\n",
        "                # if the neighbor has not been visited\n",
        "                if neighbor not in visited:\n",
        "                    # add the neighbor to the stack\n",
        "                    stack.append(neighbor)\n",
        "                    # set the parent of the neighbor to the node\n",
        "                    parent[neighbor] = node\n",
        "\n",
        "                # if the neighbor is the end node\n",
        "                if neighbor == end:\n",
        "                    # break out of the loop\n",
        "                    break\n",
        "\n",
        "        # create a copy of the maze\n",
        "        mazeCopy = maze.copy()\n",
        "        # for each node in the maze path\n",
        "        for v in visited:\n",
        "            # highlight the node\n",
        "            mazeCopy[v[0]][v[1]] = 2 \n",
        "        # for the current node highlight it in a different color to show that it is the current node\n",
        "        for s in stack:\n",
        "            mazeCopy[s[0]][s[1]] = 3 \n",
        "\n",
        "        displayMaze(mazeCopy, False)\n",
        "        plt.savefig(\"DFS/\" + str(len(visited)) + \".png\")\n",
        "        plt.close()\n",
        "\n",
        "    path = []\n",
        "    path.append(end)\n",
        "    while end in parent:\n",
        "        # stepCount += 1\n",
        "        end = parent[end]\n",
        "        path.append(end)\n",
        "    path.reverse()\n",
        "    path.pop(0)\n",
        "\n",
        "    # measure the time it takes to run DFS\n",
        "    end_time = time.time()\n",
        "    elapsed_time = end_time - start_time\n",
        "    dfsTime.append(elapsed_time)\n",
        "    stepCount = len(visited)\n",
        "    dfsSteps.append(stepCount)\n",
        "    print(f\"Elapsed time for Depth-First Search: {elapsed_time} \\| Steps: {stepCount}\")\n",
        "    \n",
        "    mazeCopy = maze.copy()\n",
        "    currentNumFiles = len(os.listdir(\"DFS\"))\n",
        "    for node in path:\n",
        "        if node != start:\n",
        "            mazeCopy[node[0]][node[1]] = 10 \n",
        "            displayMaze(mazeCopy, False)\n",
        "            plt.savefig(\"DFS/\" + str(currentNumFiles + len(path) - path.index(node)) + \".png\")\n",
        "            plt.close()\n",
        "\n",
        "    createMP4(\"DFS\", \"DFS\")\n",
        "\n",
        "# DFS(newMaze, dfsTime, dfsSteps)"
      ]
    },
    {
      "cell_type": "code",
      "execution_count": null,
      "metadata": {
        "colab": {
          "base_uri": "https://localhost:8080/",
          "height": 1000
        },
        "id": "KnjQTU8GTVfS",
        "outputId": "58aaca5c-5ced-482e-c666-7c3453788cb5"
      },
      "outputs": [
        {
          "name": "stdout",
          "output_type": "stream",
          "text": [
            "What is the height of the maze?40\n",
            "What is the width of the maze?40\n",
            "Generating a maze with a height of 20 and a width of 20\n",
            "[[1 1 1 ... 1 1 1]\n",
            " [1 0 1 ... 0 0 1]\n",
            " [1 0 1 ... 1 1 1]\n",
            " ...\n",
            " [1 1 1 ... 1 0 1]\n",
            " [1 0 0 ... 0 0 1]\n",
            " [1 1 1 ... 1 1 1]]\n",
            "The height of the maze is 41 and the width of the maze is 41\n"
          ]
        },
        {
          "data": {
            "image/png": "[encoded data removed]",
            "text/plain": [
              "<Figure size 1000x500 with 1 Axes>"
            ]
          },
          "metadata": {},
          "output_type": "display_data"
        },
        {
          "name": "stdout",
          "output_type": "stream",
          "text": [
            "[(0, 34), (1, 34), (1, 33), (2, 33), (3, 33), (3, 34), (3, 35), (3, 36), (3, 37), (3, 38), (3, 39), (4, 39), (5, 39), (6, 39), (7, 39), (7, 38), (7, 37), (8, 37), (9, 37), (10, 37), (11, 37), (11, 38), (11, 39), (12, 39), (13, 39), (14, 39), (15, 39), (16, 39), (17, 39), (18, 39), (19, 39), (20, 39), (21, 39), (22, 39), (23, 39), (23, 38), (23, 37), (24, 37), (25, 37), (25, 36), (25, 35), (25, 34), (25, 33), (26, 33), (27, 33), (28, 33), (29, 33), (29, 34), (29, 35), (28, 35), (27, 35), (27, 36), (27, 37), (27, 38), (27, 39), (28, 39), (29, 39), (29, 38), (29, 37), (30, 37), (31, 37), (31, 38), (31, 39), (32, 39), (33, 39), (33, 38), (33, 37), (34, 37), (35, 37), (36, 37), (37, 37), (37, 38), (37, 39), (38, 39), (39, 39), (39, 38), (39, 37), (39, 36), (39, 35), (38, 35), (37, 35), (36, 35), (35, 35), (35, 34), (35, 33), (36, 33), (37, 33), (37, 32), (37, 31), (38, 31), (39, 31), (39, 30), (39, 29), (38, 29), (37, 29), (36, 29), (35, 29), (35, 28), (35, 27), (36, 27), (37, 27), (37, 26), (37, 25), (37, 24), (37, 23), (37, 22), (37, 21), (38, 21), (39, 21), (39, 20), (39, 19), (38, 19), (37, 19), (37, 18), (37, 17), (37, 16), (37, 15), (38, 15), (39, 15), (39, 16), (39, 17), (40, 17)]\n",
            "Elapsed time for Breadth-First Search: 29.011368989944458 \\| Steps: 336\n"
          ]
        },
        {
          "name": "stderr",
          "output_type": "stream",
          "text": [
            "WARNING:imageio_ffmpeg:IMAGEIO FFMPEG_WRITER WARNING: input image is not divisible by macro_block_size=16, resizing from (1000, 500) to (1008, 512) to ensure video compatibility with most codecs and players. To prevent resizing, make your input image divisible by the macro_block_size or set the macro_block_size to 1 (risking incompatibility).\n"
          ]
        },
        {
          "name": "stdout",
          "output_type": "stream",
          "text": [
            "Elapsed time for Depth-First Search: 43.752673864364624 \\| Steps: 520\n"
          ]
        },
        {
          "name": "stderr",
          "output_type": "stream",
          "text": [
            "WARNING:imageio_ffmpeg:IMAGEIO FFMPEG_WRITER WARNING: input image is not divisible by macro_block_size=16, resizing from (1000, 500) to (1008, 512) to ensure video compatibility with most codecs and players. To prevent resizing, make your input image divisible by the macro_block_size or set the macro_block_size to 1 (risking incompatibility).\n"
          ]
        },
        {
          "name": "stdout",
          "output_type": "stream",
          "text": [
            "Generating a maze with a height of 20 and a width of 20\n",
            "[[1 1 1 ... 1 1 1]\n",
            " [1 0 0 ... 0 0 1]\n",
            " [1 0 1 ... 1 0 1]\n",
            " ...\n",
            " [1 0 1 ... 1 0 1]\n",
            " [1 0 0 ... 0 0 1]\n",
            " [1 1 1 ... 1 1 1]]\n",
            "The height of the maze is 41 and the width of the maze is 41\n"
          ]
        },
        {
          "data": {
            "image/png": "[encoded data removed]",
            "text/plain": [
              "<Figure size 1000x500 with 1 Axes>"
            ]
          },
          "metadata": {},
          "output_type": "display_data"
        },
        {
          "name": "stdout",
          "output_type": "stream",
          "text": [
            "[(0, 29), (1, 29), (1, 28), (1, 27), (1, 26), (1, 25), (1, 24), (1, 23), (2, 23), (3, 23), (4, 23), (5, 23), (6, 23), (7, 23), (7, 24), (7, 25), (6, 25), (5, 25), (5, 26), (5, 27), (5, 28), (5, 29), (5, 30), (5, 31), (5, 32), (5, 33), (5, 34), (5, 35), (6, 35), (7, 35), (8, 35), (9, 35), (9, 34), (9, 33), (9, 32), (9, 31), (10, 31), (11, 31), (11, 32), (11, 33), (11, 34), (11, 35), (12, 35), (13, 35), (13, 36), (13, 37), (13, 38), (13, 39), (14, 39), (15, 39), (16, 39), (17, 39), (17, 38), (17, 37), (16, 37), (15, 37), (15, 36), (15, 35), (16, 35), (17, 35), (17, 34), (17, 33), (18, 33), (19, 33), (19, 34), (19, 35), (20, 35), (21, 35), (21, 36), (21, 37), (21, 38), (21, 39), (22, 39), (23, 39), (23, 38), (23, 37), (24, 37), (25, 37), (25, 38), (25, 39), (26, 39), (27, 39), (27, 38), (27, 37), (28, 37), (29, 37), (29, 36), (29, 35), (29, 34), (29, 33), (30, 33), (31, 33), (31, 34), (31, 35), (31, 36), (31, 37), (32, 37), (33, 37), (33, 36), (33, 35), (33, 34), (33, 33), (34, 33), (35, 33), (35, 34), (35, 35), (35, 36), (35, 37), (36, 37), (37, 37), (37, 38), (37, 39), (38, 39), (39, 39), (39, 38), (39, 37), (39, 36), (39, 35), (39, 34), (39, 33), (38, 33), (37, 33), (37, 32), (37, 31), (38, 31), (39, 31), (39, 30), (39, 29), (38, 29), (37, 29), (37, 28), (37, 27), (37, 26), (37, 25), (36, 25), (35, 25), (35, 24), (35, 23), (34, 23), (33, 23), (32, 23), (31, 23), (30, 23), (29, 23), (28, 23), (27, 23), (26, 23), (25, 23), (24, 23), (23, 23), (23, 22), (23, 21), (24, 21), (25, 21), (25, 20), (25, 19), (26, 19), (27, 19), (27, 20), (27, 21), (28, 21), (29, 21), (30, 21), (31, 21), (31, 20), (31, 19), (30, 19), (29, 19), (29, 18), (29, 17), (30, 17), (31, 17), (31, 16), (31, 15), (30, 15), (29, 15), (29, 14), (29, 13), (29, 12), (29, 11), (28, 11), (27, 11), (27, 12), (27, 13), (26, 13), (25, 13), (25, 14), (25, 15), (26, 15), (27, 15), (27, 16), (27, 17), (26, 17), (25, 17), (24, 17), (23, 17), (23, 16), (23, 15), (23, 14), (23, 13), (23, 12), (23, 11), (24, 11), (25, 11), (25, 10), (25, 9), (26, 9), (27, 9), (27, 8), (27, 7), (26, 7), (25, 7), (24, 7), (23, 7), (22, 7), (21, 7), (20, 7), (19, 7), (19, 6), (19, 5), (18, 5), (17, 5), (17, 6), (17, 7), (17, 8), (17, 9), (17, 10), (17, 11), (16, 11), (15, 11), (14, 11), (13, 11), (13, 10), (13, 9), (14, 9), (15, 9), (15, 8), (15, 7), (15, 6), (15, 5), (14, 5), (13, 5), (13, 4), (13, 3), (12, 3), (11, 3), (11, 2), (11, 1), (12, 1), (13, 1), (14, 1), (15, 1), (16, 1), (17, 1), (17, 2), (17, 3), (18, 3), (19, 3), (20, 3), (21, 3), (22, 3), (23, 3), (23, 4), (23, 5), (24, 5), (25, 5), (25, 4), (25, 3), (26, 3), (27, 3), (28, 3), (29, 3), (29, 4), (29, 5), (30, 5), (31, 5), (31, 4), (31, 3), (32, 3), (33, 3), (34, 3), (35, 3), (35, 4), (35, 5), (35, 6), (35, 7), (36, 7), (37, 7), (37, 6), (37, 5), (38, 5), (39, 5), (39, 4), (39, 3), (39, 2), (39, 1), (40, 1)]\n",
            "Elapsed time for Breadth-First Search: 38.6106960773468 \\| Steps: 418\n"
          ]
        },
        {
          "name": "stderr",
          "output_type": "stream",
          "text": [
            "WARNING:imageio_ffmpeg:IMAGEIO FFMPEG_WRITER WARNING: input image is not divisible by macro_block_size=16, resizing from (1000, 500) to (1008, 512) to ensure video compatibility with most codecs and players. To prevent resizing, make your input image divisible by the macro_block_size or set the macro_block_size to 1 (risking incompatibility).\n"
          ]
        },
        {
          "name": "stdout",
          "output_type": "stream",
          "text": [
            "Elapsed time for Depth-First Search: 31.332289934158325 \\| Steps: 380\n"
          ]
        },
        {
          "name": "stderr",
          "output_type": "stream",
          "text": [
            "WARNING:imageio_ffmpeg:IMAGEIO FFMPEG_WRITER WARNING: input image is not divisible by macro_block_size=16, resizing from (1000, 500) to (1008, 512) to ensure video compatibility with most codecs and players. To prevent resizing, make your input image divisible by the macro_block_size or set the macro_block_size to 1 (risking incompatibility).\n"
          ]
        },
        {
          "name": "stdout",
          "output_type": "stream",
          "text": [
            "Generating a maze with a height of 20 and a width of 20\n",
            "[[1 1 1 ... 1 1 1]\n",
            " [1 0 0 ... 0 0 1]\n",
            " [1 0 1 ... 1 0 1]\n",
            " ...\n",
            " [1 0 1 ... 1 1 1]\n",
            " [1 0 0 ... 0 0 1]\n",
            " [1 1 1 ... 1 1 1]]\n",
            "The height of the maze is 41 and the width of the maze is 41\n"
          ]
        },
        {
          "data": {
            "image/png": "[encoded data removed]",
            "text/plain": [
              "<Figure size 1000x500 with 1 Axes>"
            ]
          },
          "metadata": {},
          "output_type": "display_data"
        },
        {
          "name": "stdout",
          "output_type": "stream",
          "text": [
            "[(0, 36), (1, 36), (1, 37), (2, 37), (3, 37), (3, 36), (3, 35), (4, 35), (5, 35), (5, 34), (5, 33), (5, 32), (5, 31), (4, 31), (3, 31), (3, 30), (3, 29), (3, 28), (3, 27), (2, 27), (1, 27), (1, 26), (1, 25), (1, 24), (1, 23), (2, 23), (3, 23), (3, 24), (3, 25), (4, 25), (5, 25), (5, 26), (5, 27), (6, 27), (7, 27), (8, 27), (9, 27), (9, 28), (9, 29), (9, 30), (9, 31), (8, 31), (7, 31), (7, 32), (7, 33), (8, 33), (9, 33), (10, 33), (11, 33), (11, 32), (11, 31), (11, 30), (11, 29), (11, 28), (11, 27), (12, 27), (13, 27), (13, 28), (13, 29), (13, 30), (13, 31), (13, 32), (13, 33), (13, 34), (13, 35), (14, 35), (15, 35), (15, 36), (15, 37), (15, 38), (15, 39), (16, 39), (17, 39), (18, 39), (19, 39), (20, 39), (21, 39), (21, 38), (21, 37), (21, 36), (21, 35), (22, 35), (23, 35), (23, 34), (23, 33), (23, 32), (23, 31), (22, 31), (21, 31), (20, 31), (19, 31), (18, 31), (17, 31), (16, 31), (15, 31), (15, 30), (15, 29), (16, 29), (17, 29), (17, 28), (17, 27), (16, 27), (15, 27), (15, 26), (15, 25), (16, 25), (17, 25), (17, 24), (17, 23), (17, 22), (17, 21), (16, 21), (15, 21), (15, 22), (15, 23), (14, 23), (13, 23), (13, 22), (13, 21), (12, 21), (11, 21), (11, 22), (11, 23), (10, 23), (9, 23), (9, 22), (9, 21), (8, 21), (7, 21), (6, 21), (5, 21), (5, 20), (5, 19), (5, 18), (5, 17), (5, 16), (5, 15), (6, 15), (7, 15), (7, 14), (7, 13), (6, 13), (5, 13), (5, 12), (5, 11), (5, 10), (5, 9), (5, 8), (5, 7), (4, 7), (3, 7), (2, 7), (1, 7), (1, 6), (1, 5), (2, 5), (3, 5), (3, 4), (3, 3), (4, 3), (5, 3), (5, 4), (5, 5), (6, 5), (7, 5), (7, 4), (7, 3), (8, 3), (9, 3), (9, 4), (9, 5), (9, 6), (9, 7), (10, 7), (11, 7), (11, 6), (11, 5), (11, 4), (11, 3), (12, 3), (13, 3), (13, 2), (13, 1), (14, 1), (15, 1), (15, 2), (15, 3), (16, 3), (17, 3), (17, 2), (17, 1), (18, 1), (19, 1), (20, 1), (21, 1), (21, 2), (21, 3), (20, 3), (19, 3), (19, 4), (19, 5), (18, 5), (17, 5), (16, 5), (15, 5), (14, 5), (13, 5), (13, 6), (13, 7), (14, 7), (15, 7), (16, 7), (17, 7), (18, 7), (19, 7), (19, 8), (19, 9), (18, 9), (17, 9), (16, 9), (15, 9), (14, 9), (13, 9), (13, 10), (13, 11), (13, 12), (13, 13), (12, 13), (11, 13), (11, 12), (11, 11), (10, 11), (9, 11), (9, 12), (9, 13), (9, 14), (9, 15), (10, 15), (11, 15), (11, 16), (11, 17), (11, 18), (11, 19), (12, 19), (13, 19), (14, 19), (15, 19), (15, 18), (15, 17), (15, 16), (15, 15), (16, 15), (17, 15), (18, 15), (19, 15), (19, 14), (19, 13), (20, 13), (21, 13), (21, 14), (21, 15), (21, 16), (21, 17), (21, 18), (21, 19), (21, 20), (21, 21), (20, 21), (19, 21), (19, 22), (19, 23), (19, 24), (19, 25), (20, 25), (21, 25), (21, 26), (21, 27), (22, 27), (23, 27), (23, 28), (23, 29), (24, 29), (25, 29), (25, 28), (25, 27), (25, 26), (25, 25), (25, 24), (25, 23), (24, 23), (23, 23), (23, 22), (23, 21), (23, 20), (23, 19), (24, 19), (25, 19), (26, 19), (27, 19), (28, 19), (29, 19), (29, 18), (29, 17), (28, 17), (27, 17), (27, 16), (27, 15), (28, 15), (29, 15), (29, 14), (29, 13), (30, 13), (31, 13), (32, 13), (33, 13), (33, 14), (33, 15), (33, 16), (33, 17), (34, 17), (35, 17), (36, 17), (37, 17), (37, 18), (37, 19), (38, 19), (39, 19), (39, 18), (39, 17), (40, 17)]\n",
            "Elapsed time for Breadth-First Search: 66.76871657371521 \\| Steps: 782\n"
          ]
        },
        {
          "name": "stderr",
          "output_type": "stream",
          "text": [
            "WARNING:imageio_ffmpeg:IMAGEIO FFMPEG_WRITER WARNING: input image is not divisible by macro_block_size=16, resizing from (1000, 500) to (1008, 512) to ensure video compatibility with most codecs and players. To prevent resizing, make your input image divisible by the macro_block_size or set the macro_block_size to 1 (risking incompatibility).\n"
          ]
        },
        {
          "name": "stdout",
          "output_type": "stream",
          "text": [
            "Elapsed time for Depth-First Search: 35.64093995094299 \\| Steps: 443\n"
          ]
        },
        {
          "name": "stderr",
          "output_type": "stream",
          "text": [
            "WARNING:imageio_ffmpeg:IMAGEIO FFMPEG_WRITER WARNING: input image is not divisible by macro_block_size=16, resizing from (1000, 500) to (1008, 512) to ensure video compatibility with most codecs and players. To prevent resizing, make your input image divisible by the macro_block_size or set the macro_block_size to 1 (risking incompatibility).\n"
          ]
        },
        {
          "name": "stdout",
          "output_type": "stream",
          "text": [
            "Generating a maze with a height of 20 and a width of 20\n",
            "[[1 1 1 ... 1 1 1]\n",
            " [1 0 0 ... 0 0 1]\n",
            " [1 0 1 ... 1 0 1]\n",
            " ...\n",
            " [1 0 1 ... 1 0 1]\n",
            " [1 0 0 ... 1 0 1]\n",
            " [1 1 1 ... 1 1 1]]\n",
            "The height of the maze is 41 and the width of the maze is 41\n"
          ]
        },
        {
          "data": {
            "image/png": "[encoded data removed]",
            "text/plain": [
              "<Figure size 1000x500 with 1 Axes>"
            ]
          },
          "metadata": {},
          "output_type": "display_data"
        },
        {
          "name": "stdout",
          "output_type": "stream",
          "text": [
            "[(0, 23), (1, 23), (2, 23), (3, 23), (3, 22), (3, 21), (3, 20), (3, 19), (2, 19), (1, 19), (1, 18), (1, 17), (1, 16), (1, 15), (2, 15), (3, 15), (4, 15), (5, 15), (6, 15), (7, 15), (7, 16), (7, 17), (6, 17), (5, 17), (5, 18), (5, 19), (5, 20), (5, 21), (6, 21), (7, 21), (8, 21), (9, 21), (9, 22), (9, 23), (8, 23), (7, 23), (7, 24), (7, 25), (8, 25), (9, 25), (10, 25), (11, 25), (11, 24), (11, 23), (12, 23), (13, 23), (13, 22), (13, 21), (14, 21), (15, 21), (15, 20), (15, 19), (16, 19), (17, 19), (18, 19), (19, 19), (19, 20), (19, 21), (20, 21), (21, 21), (22, 21), (23, 21), (23, 22), (23, 23), (23, 24), (23, 25), (22, 25), (21, 25), (21, 26), (21, 27), (20, 27), (19, 27), (19, 26), (19, 25), (19, 24), (19, 23), (18, 23), (17, 23), (17, 24), (17, 25), (16, 25), (15, 25), (15, 26), (15, 27), (15, 28), (15, 29), (14, 29), (13, 29), (12, 29), (11, 29), (11, 30), (11, 31), (12, 31), (13, 31), (13, 32), (13, 33), (13, 34), (13, 35), (14, 35), (15, 35), (15, 36), (15, 37), (16, 37), (17, 37), (17, 36), (17, 35), (18, 35), (19, 35), (19, 36), (19, 37), (19, 38), (19, 39), (20, 39), (21, 39), (22, 39), (23, 39), (23, 38), (23, 37), (24, 37), (25, 37), (25, 38), (25, 39), (26, 39), (27, 39), (28, 39), (29, 39), (30, 39), (31, 39), (31, 38), (31, 37), (32, 37), (33, 37), (33, 36), (33, 35), (34, 35), (35, 35), (36, 35), (37, 35), (37, 34), (37, 33), (37, 32), (37, 31), (36, 31), (35, 31), (35, 32), (35, 33), (34, 33), (33, 33), (33, 32), (33, 31), (33, 30), (33, 29), (33, 28), (33, 27), (32, 27), (31, 27), (31, 26), (31, 25), (31, 24), (31, 23), (32, 23), (33, 23), (33, 24), (33, 25), (34, 25), (35, 25), (35, 26), (35, 27), (36, 27), (37, 27), (37, 26), (37, 25), (38, 25), (39, 25), (39, 24), (39, 23), (38, 23), (37, 23), (37, 22), (37, 21), (37, 20), (37, 19), (38, 19), (39, 19), (39, 18), (39, 17), (39, 16), (39, 15), (39, 14), (39, 13), (38, 13), (37, 13), (37, 12), (37, 11), (37, 10), (37, 9), (37, 8), (37, 7), (37, 6), (37, 5), (38, 5), (39, 5), (39, 4), (39, 3), (39, 2), (39, 1), (40, 1)]\n",
            "Elapsed time for Breadth-First Search: 65.81383872032166 \\| Steps: 747\n"
          ]
        },
        {
          "name": "stderr",
          "output_type": "stream",
          "text": [
            "WARNING:imageio_ffmpeg:IMAGEIO FFMPEG_WRITER WARNING: input image is not divisible by macro_block_size=16, resizing from (1000, 500) to (1008, 512) to ensure video compatibility with most codecs and players. To prevent resizing, make your input image divisible by the macro_block_size or set the macro_block_size to 1 (risking incompatibility).\n"
          ]
        },
        {
          "name": "stdout",
          "output_type": "stream",
          "text": [
            "Elapsed time for Depth-First Search: 59.435484647750854 \\| Steps: 730\n"
          ]
        },
        {
          "name": "stderr",
          "output_type": "stream",
          "text": [
            "WARNING:imageio_ffmpeg:IMAGEIO FFMPEG_WRITER WARNING: input image is not divisible by macro_block_size=16, resizing from (1000, 500) to (1008, 512) to ensure video compatibility with most codecs and players. To prevent resizing, make your input image divisible by the macro_block_size or set the macro_block_size to 1 (risking incompatibility).\n"
          ]
        },
        {
          "name": "stdout",
          "output_type": "stream",
          "text": [
            "Generating a maze with a height of 20 and a width of 20\n",
            "[[1 1 1 ... 1 1 1]\n",
            " [1 0 0 ... 0 0 1]\n",
            " [1 0 1 ... 1 0 1]\n",
            " ...\n",
            " [1 0 1 ... 1 0 1]\n",
            " [1 0 0 ... 1 0 1]\n",
            " [1 1 1 ... 1 1 1]]\n",
            "The height of the maze is 41 and the width of the maze is 41\n"
          ]
        },
        {
          "data": {
            "image/png": "[encoded data removed]",
            "text/plain": [
              "<Figure size 1000x500 with 1 Axes>"
            ]
          },
          "metadata": {},
          "output_type": "display_data"
        },
        {
          "name": "stdout",
          "output_type": "stream",
          "text": [
            "[(0, 26), (1, 26), (1, 27), (1, 28), (1, 29), (1, 30), (1, 31), (2, 31), (3, 31), (3, 30), (3, 29), (3, 28), (3, 27), (4, 27), (5, 27), (6, 27), (7, 27), (7, 26), (7, 25), (7, 24), (7, 23), (8, 23), (9, 23), (9, 22), (9, 21), (8, 21), (7, 21), (7, 20), (7, 19), (8, 19), (9, 19), (10, 19), (11, 19), (11, 18), (11, 17), (12, 17), (13, 17), (14, 17), (15, 17), (15, 16), (15, 15), (15, 14), (15, 13), (14, 13), (13, 13), (13, 14), (13, 15), (12, 15), (11, 15), (10, 15), (9, 15), (8, 15), (7, 15), (6, 15), (5, 15), (5, 14), (5, 13), (4, 13), (3, 13), (3, 12), (3, 11), (2, 11), (1, 11), (1, 10), (1, 9), (2, 9), (3, 9), (3, 8), (3, 7), (3, 6), (3, 5), (3, 4), (3, 3), (2, 3), (1, 3), (1, 2), (1, 1), (2, 1), (3, 1), (4, 1), (5, 1), (5, 2), (5, 3), (6, 3), (7, 3), (8, 3), (9, 3), (9, 2), (9, 1), (10, 1), (11, 1), (12, 1), (13, 1), (14, 1), (15, 1), (15, 2), (15, 3), (14, 3), (13, 3), (13, 4), (13, 5), (14, 5), (15, 5), (15, 6), (15, 7), (14, 7), (13, 7), (13, 8), (13, 9), (14, 9), (15, 9), (16, 9), (17, 9), (18, 9), (19, 9), (20, 9), (21, 9), (22, 9), (23, 9), (23, 8), (23, 7), (23, 6), (23, 5), (23, 4), (23, 3), (22, 3), (21, 3), (21, 4), (21, 5), (21, 6), (21, 7), (20, 7), (19, 7), (18, 7), (17, 7), (17, 6), (17, 5), (18, 5), (19, 5), (19, 4), (19, 3), (19, 2), (19, 1), (20, 1), (21, 1), (22, 1), (23, 1), (24, 1), (25, 1), (25, 2), (25, 3), (25, 4), (25, 5), (26, 5), (27, 5), (28, 5), (29, 5), (29, 6), (29, 7), (28, 7), (27, 7), (27, 8), (27, 9), (26, 9), (25, 9), (25, 10), (25, 11), (24, 11), (23, 11), (23, 12), (23, 13), (22, 13), (21, 13), (21, 12), (21, 11), (20, 11), (19, 11), (18, 11), (17, 11), (17, 12), (17, 13), (18, 13), (19, 13), (19, 14), (19, 15), (20, 15), (21, 15), (21, 16), (21, 17), (21, 18), (21, 19), (22, 19), (23, 19), (24, 19), (25, 19), (26, 19), (27, 19), (28, 19), (29, 19), (29, 20), (29, 21), (30, 21), (31, 21), (31, 20), (31, 19), (31, 18), (31, 17), (31, 16), (31, 15), (30, 15), (29, 15), (29, 16), (29, 17), (28, 17), (27, 17), (26, 17), (25, 17), (25, 16), (25, 15), (26, 15), (27, 15), (27, 14), (27, 13), (28, 13), (29, 13), (29, 12), (29, 11), (30, 11), (31, 11), (31, 12), (31, 13), (32, 13), (33, 13), (33, 14), (33, 15), (34, 15), (35, 15), (35, 14), (35, 13), (35, 12), (35, 11), (36, 11), (37, 11), (37, 12), (37, 13), (37, 14), (37, 15), (38, 15), (39, 15), (39, 14), (40, 14)]\n",
            "Elapsed time for Breadth-First Search: 68.60865068435669 \\| Steps: 750\n"
          ]
        },
        {
          "name": "stderr",
          "output_type": "stream",
          "text": [
            "WARNING:imageio_ffmpeg:IMAGEIO FFMPEG_WRITER WARNING: input image is not divisible by macro_block_size=16, resizing from (1000, 500) to (1008, 512) to ensure video compatibility with most codecs and players. To prevent resizing, make your input image divisible by the macro_block_size or set the macro_block_size to 1 (risking incompatibility).\n"
          ]
        },
        {
          "name": "stdout",
          "output_type": "stream",
          "text": [
            "Elapsed time for Depth-First Search: 58.66396999359131 \\| Steps: 692\n"
          ]
        },
        {
          "name": "stderr",
          "output_type": "stream",
          "text": [
            "WARNING:imageio_ffmpeg:IMAGEIO FFMPEG_WRITER WARNING: input image is not divisible by macro_block_size=16, resizing from (1000, 500) to (1008, 512) to ensure video compatibility with most codecs and players. To prevent resizing, make your input image divisible by the macro_block_size or set the macro_block_size to 1 (risking incompatibility).\n"
          ]
        }
      ],
      "source": [
        "\n",
        "\n",
        "for i in range(5):\n",
        "  currMaze = generateMaze()\n",
        "  BFS(currMaze, bfsTime, bfsSteps)\n",
        "  DFS(currMaze, dfsTime, dfsSteps)"
      ]
    },
    {
      "cell_type": "code",
      "execution_count": null,
      "metadata": {
        "colab": {
          "base_uri": "https://localhost:8080/",
          "height": 509
        },
        "id": "GD1prdUaQVNr",
        "outputId": "d9bd23de-0576-4177-9ecd-90f4157469b9"
      },
      "outputs": [
        {
          "name": "stdout",
          "output_type": "stream",
          "text": [
            "DFS Times: [43.752673864364624, 31.332289934158325, 35.64093995094299, 59.435484647750854, 58.66396999359131]\n",
            "BFS Times: [29.011368989944458, 38.6106960773468, 66.76871657371521, 65.81383872032166, 68.60865068435669]\n"
          ]
        },
        {
          "data": {
            "image/png": "[encoded data removed]",
            "text/plain": [
              "<Figure size 640x480 with 1 Axes>"
            ]
          },
          "metadata": {},
          "output_type": "display_data"
        }
      ],
      "source": [
        "print(\"DFS Times:\", dfsTime)\n",
        "print(\"BFS Times:\", bfsTime)\n",
        "\n",
        "# X-axis labels\n",
        "labels = ['Maze 1', 'Maze 2', 'Maze 3', 'Maze 4', 'Maze 5']\n",
        "\n",
        "# Set the width of each bar\n",
        "barWidth = 0.35\n",
        "\n",
        "# Set the position of each bar on the X-axis\n",
        "r1 = np.arange(len(bfsTime))\n",
        "r2 = [x + barWidth for x in r1]\n",
        "\n",
        "# Define consistent colors for each search\n",
        "bfsColor = ['#3366CC', '#3366CC', '#3366CC', '#3366CC', '#3366CC']\n",
        "dfsColor = ['#109618', '#109618', '#109618', '#109618', '#109618']\n",
        "\n",
        "# Plotting the bar graph\n",
        "plt.bar(r1, bfsTime, color=bfsColor, width=barWidth, edgecolor='white', label='BFS')\n",
        "plt.bar(r2, dfsTime, color=dfsColor, width=barWidth, edgecolor='white', label='DFS')\n",
        "\n",
        "# Adding labels and title\n",
        "plt.xlabel('Search Algorithm')\n",
        "plt.ylabel('Time (in seconds)')\n",
        "plt.title(f'BFS vs DFS Time Comparison ({heightSize}x{widthSize} maze)')\n",
        "\n",
        "# Adding X-axis labels\n",
        "plt.xticks([r + barWidth/2 for r in range(len(bfsTime))], labels)\n",
        "\n",
        "# Adding legend\n",
        "plt.legend()\n",
        "\n",
        "# Displaying the plot\n",
        "plt.show()"
      ]
    },
    {
      "cell_type": "code",
      "execution_count": null,
      "metadata": {
        "colab": {
          "base_uri": "https://localhost:8080/",
          "height": 472
        },
        "id": "agzGG_ImHy4M",
        "outputId": "792a3941-4005-41e4-8ca0-2d597ed07c59"
      },
      "outputs": [
        {
          "data": {
            "image/png": "[encoded data removed]",
            "text/plain": [
              "<Figure size 640x480 with 1 Axes>"
            ]
          },
          "metadata": {},
          "output_type": "display_data"
        }
      ],
      "source": [
        "# X-axis labels\n",
        "labels = ['Maze 1', 'Maze 2', 'Maze 3', 'Maze 4', 'Maze 5']\n",
        "\n",
        "# Set the width of each bar\n",
        "barWidth = 0.35\n",
        "\n",
        "# Set the position of each bar on the X-axis\n",
        "r1 = np.arange(len(bfsSteps))\n",
        "r2 = [x + barWidth for x in r1]\n",
        "\n",
        "# Define consistent colors for each search\n",
        "bfsColor = ['#3366CC', '#3366CC', '#3366CC', '#3366CC', '#3366CC']\n",
        "dfsColor = ['#109618', '#109618', '#109618', '#109618', '#109618']\n",
        "\n",
        "# Plotting the bar graph\n",
        "plt.bar(r1, bfsSteps, color=bfsColor, width=barWidth, edgecolor='white', label='BFS')\n",
        "plt.bar(r2, dfsSteps, color=dfsColor, width=barWidth, edgecolor='white', label='DFS')\n",
        "\n",
        "# Adding labels and title\n",
        "plt.xlabel('Search Algorithm')\n",
        "plt.ylabel('Steps Taken')\n",
        "plt.title(f'BFS vs DFS Step Comparison ({heightSize}x{widthSize} maze)')\n",
        "\n",
        "# Adding X-axis labels\n",
        "plt.xticks([r + barWidth/2 for r in range(len(bfsSteps))], labels)\n",
        "\n",
        "# Adding legend\n",
        "plt.legend()\n",
        "\n",
        "# Displaying the plot\n",
        "plt.show()"
      ]
    }
  ],
  "metadata": {
    "colab": {
      "provenance": []
    },
    "kernelspec": {
      "display_name": "env",
      "language": "python",
      "name": "python3"
    },
    "language_info": {
      "codemirror_mode": {
        "name": "ipython",
        "version": 3
      },
      "file_extension": ".py",
      "mimetype": "text/x-python",
      "name": "python",
      "nbconvert_exporter": "python",
      "pygments_lexer": "ipython3",
      "version": "3.10.2"
    },
    "orig_nbformat": 4
  },
  "nbformat": 4,
  "nbformat_minor": 0
}
