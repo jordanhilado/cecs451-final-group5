{
  "cells": [
    {
      "cell_type": "code",
      "execution_count": 84,
      "metadata": {
        "id": "NTxnoX0bNbS5"
      },
      "outputs": [],
      "source": [
        "def displayMaze(maze, displayState):\n",
        "    # create a new figure\n",
        "    plt.figure(figsize=(10, 5))\n",
        "\n",
        "    # display the maze\n",
        "    plt.imshow(maze, cmap=plt.cm.viridis, interpolation='nearest')\n",
        "    plt.xticks([]), plt.yticks([])\n",
        "    if displayState:\n",
        "        plt.show()\n",
        "\n",
        "\n",
        "def createMP4(name, imgDirPath):\n",
        "    # find the number of images in the folder\n",
        "    numImages = len(os.listdir(imgDirPath))\n",
        "    \n",
        "    with imageio.get_writer(name + '.mp4', mode='I') as writer:\n",
        "        # for each screenshot\n",
        "        for i in range(1, numImages + 1):\n",
        "            # read the screenshot\n",
        "            image = imageio.imread(imgDirPath + \"/\" + str(i) + \".png\")\n",
        "            # add the screenshot to the video\n",
        "            writer.append_data(image)\n",
        "    \n",
        "    # delete the screenshots\n",
        "    for i in range(1, numImages + 1):\n",
        "        os.remove(imgDirPath + \"/\" + str(i) + \".png\")\n",
        "        \n",
        "    \n",
        "    # speed up the video by a factor of 3x speed up\n",
        "    os.system(\"ffmpeg -i \" + name + \".mp4 -filter:v \\\"setpts=0.333*PTS\\\" \" + name + \"SpedUp.mp4 -y\")\n"
      ]
    },
    {
      "cell_type": "code",
      "execution_count": 4,
      "metadata": {
        "colab": {
          "base_uri": "https://localhost:8080/"
        },
        "id": "jrJ7fZQINe4F",
        "outputId": "b0b5ce8e-3cca-475b-f377-472e18c55ed2"
      },
      "outputs": [
        {
          "name": "stdout",
          "output_type": "stream",
          "text": [
            "Looking in indexes: https://pypi.org/simple, https://us-python.pkg.dev/colab-wheels/public/simple/\n",
            "Collecting mazelib\n",
            "  Downloading mazelib-0.9.13.tar.gz (1.6 MB)\n",
            "\u001b[2K     \u001b[90m━━━━━━━━━━━━━━━━━━━━━━━━━━━━━━━━━━━━━━━━\u001b[0m \u001b[32m1.6/1.6 MB\u001b[0m \u001b[31m19.8 MB/s\u001b[0m eta \u001b[36m0:00:00\u001b[0m\n",
            "\u001b[?25h  Preparing metadata (setup.py) ... \u001b[?25l\u001b[?25hdone\n",
            "Requirement already satisfied: matplotlib in /usr/local/lib/python3.10/dist-packages (3.7.1)\n",
            "Collecting cython<=0.29.27,>=0.27.0\n",
            "  Downloading Cython-0.29.27-cp310-cp310-manylinux_2_17_x86_64.manylinux2014_x86_64.manylinux_2_24_x86_64.whl (1.9 MB)\n",
            "\u001b[2K     \u001b[90m━━━━━━━━━━━━━━━━━━━━━━━━━━━━━━━━━━━━━━━━\u001b[0m \u001b[32m1.9/1.9 MB\u001b[0m \u001b[31m7.3 MB/s\u001b[0m eta \u001b[36m0:00:00\u001b[0m\n",
            "\u001b[?25hCollecting numpy<=1.22.1,>=1.13.1\n",
            "  Using cached numpy-1.22.1-cp310-cp310-manylinux_2_17_x86_64.manylinux2014_x86_64.whl (16.8 MB)\n",
            "Requirement already satisfied: fonttools>=4.22.0 in /usr/local/lib/python3.10/dist-packages (from matplotlib) (4.39.3)\n",
            "Requirement already satisfied: pyparsing>=2.3.1 in /usr/local/lib/python3.10/dist-packages (from matplotlib) (3.0.9)\n",
            "Requirement already satisfied: cycler>=0.10 in /usr/local/lib/python3.10/dist-packages (from matplotlib) (0.11.0)\n",
            "Requirement already satisfied: python-dateutil>=2.7 in /usr/local/lib/python3.10/dist-packages (from matplotlib) (2.8.2)\n",
            "Requirement already satisfied: contourpy>=1.0.1 in /usr/local/lib/python3.10/dist-packages (from matplotlib) (1.0.7)\n",
            "Requirement already satisfied: packaging>=20.0 in /usr/local/lib/python3.10/dist-packages (from matplotlib) (23.1)\n",
            "Requirement already satisfied: pillow>=6.2.0 in /usr/local/lib/python3.10/dist-packages (from matplotlib) (8.4.0)\n",
            "Requirement already satisfied: kiwisolver>=1.0.1 in /usr/local/lib/python3.10/dist-packages (from matplotlib) (1.4.4)\n",
            "Requirement already satisfied: six>=1.5 in /usr/local/lib/python3.10/dist-packages (from python-dateutil>=2.7->matplotlib) (1.16.0)\n",
            "Building wheels for collected packages: mazelib\n",
            "  Building wheel for mazelib (setup.py) ... \u001b[?25l\u001b[?25hdone\n",
            "  Created wheel for mazelib: filename=mazelib-0.9.13-cp310-cp310-linux_x86_64.whl size=5288057 sha256=fc4d5b7eb7b066e345f568aa03802ea71c2e88f40a4ab2bd329756592fce8d3b\n",
            "  Stored in directory: /root/.cache/pip/wheels/5c/58/cc/8618d08ccb34d008d3c4de7bd00c5cb319cfc45d3a81df5a5c\n",
            "Successfully built mazelib\n",
            "Installing collected packages: numpy, cython, mazelib\n",
            "  Attempting uninstall: numpy\n",
            "    Found existing installation: numpy 1.22.4\n",
            "    Uninstalling numpy-1.22.4:\n",
            "      Successfully uninstalled numpy-1.22.4\n",
            "  Attempting uninstall: cython\n",
            "    Found existing installation: Cython 0.29.34\n",
            "    Uninstalling Cython-0.29.34:\n",
            "      Successfully uninstalled Cython-0.29.34\n",
            "\u001b[31mERROR: pip's dependency resolver does not currently take into account all the packages that are installed. This behaviour is the source of the following dependency conflicts.\n",
            "librosa 0.10.0.post2 requires numpy!=1.22.0,!=1.22.1,!=1.22.2,>=1.20.3, but you have numpy 1.22.1 which is incompatible.\u001b[0m\u001b[31m\n",
            "\u001b[0mSuccessfully installed cython-0.29.27 mazelib-0.9.13 numpy-1.22.1\n"
          ]
        }
      ],
      "source": [
        "!pip install mazelib matplotlib"
      ]
    },
    {
      "cell_type": "code",
      "execution_count": 85,
      "metadata": {
        "colab": {
          "base_uri": "https://localhost:8080/",
          "height": 698
        },
        "id": "Ff1KKgDVNbS6",
        "outputId": "26348289-ae4e-4201-eac5-565becf911c9"
      },
      "outputs": [
        {
          "name": "stdout",
          "output_type": "stream",
          "text": [
            "Enter the height of the maze: 10\n",
            "Enter the width of the maze: 10\n",
            "Generating a maze with a height of 5 and a width of 5\n",
            "[[1 1 1 1 1 1 1 1 1 1 1]\n",
            " [1 0 0 0 0 0 1 0 0 0 1]\n",
            " [1 0 1 0 1 1 1 0 1 0 1]\n",
            " [1 0 1 0 1 0 0 0 1 0 1]\n",
            " [1 0 1 0 1 0 1 1 1 0 1]\n",
            " [1 0 1 0 1 0 0 0 1 0 1]\n",
            " [1 0 1 1 1 1 1 0 1 0 1]\n",
            " [1 0 0 0 1 0 0 0 1 0 1]\n",
            " [1 0 1 0 1 1 1 1 1 0 1]\n",
            " [1 0 1 0 0 0 0 0 0 0 1]\n",
            " [1 1 1 1 1 1 1 1 1 1 1]]\n",
            "The height of the maze is 11 and the width of the maze is 11\n"
          ]
        },
        {
          "data": {
            "image/png": "[encoded data removed]",
            "text/plain": [
              "<Figure size 1000x500 with 1 Axes>"
            ]
          },
          "metadata": {},
          "output_type": "display_data"
        }
      ],
      "source": [
        "# import backtracking from mazelib package\n",
        "from mazelib import Maze\n",
        "from mazelib.generate.BacktrackingGenerator import BacktrackingGenerator\n",
        "\n",
        "import matplotlib.pyplot as plt\n",
        "import numpy as np\n",
        "import random\n",
        "import math\n",
        "import time\n",
        "import sys\n",
        "import os\n",
        "import imageio.v2 as imageio\n",
        "\n",
        "global bfsTime\n",
        "global dfsTime\n",
        "bfsTime = []\n",
        "dfsTime = []\n",
        "\n",
        "inputHeight = 0\n",
        "inputWidth = 0\n",
        "\n",
        "# get the height and width of the maze from the user\n",
        "while True:\n",
        "    try:\n",
        "        inputHeight = int(input(\"Enter the height of the maze: \"))\n",
        "        inputWidth = int(input(\"Enter the width of the maze: \"))\n",
        "        height = (inputHeight + 1) // 2\n",
        "        width = (inputWidth + 1) // 2\n",
        "        break\n",
        "    except ValueError:\n",
        "        print(\"Please enter a valid integer.\")\n",
        "\n",
        "# print the height and width of the maze \n",
        "print(\"Generating a maze with a height of\", height, \"and a width of\", width)\n",
        "# create a maze object\n",
        "newMaze = Maze()\n",
        "maze_generator = BacktrackingGenerator(width, height)\n",
        "newMaze = maze_generator.generate()\n",
        "\n",
        "# print the maze\n",
        "print(newMaze)\n",
        "\n",
        "newHeight = newMaze.shape[0]\n",
        "newWidth = newMaze.shape[1]\n",
        "print(\"The height of the maze is\", newHeight, \"and the width of the maze is\", newWidth)\n",
        "\n",
        "# ensure that the maze is solvable by creating an entrance and exit in a random location on the top and bottom of the maze which must be connected to a 0 in the maze\n",
        "# create a list of all the 0s in the first and last row of the maze\n",
        "topRow = []\n",
        "bottomRow = []\n",
        "for i in range(newWidth):\n",
        "    if newMaze[1][i] == 0:\n",
        "        topRow.append(i)\n",
        "    if newMaze[newHeight - 2][i] == 0:\n",
        "        bottomRow.append(i)\n",
        "\n",
        "# randomly select a 0 from the top and bottom row\n",
        "top = random.choice(topRow)\n",
        "bottom = random.choice(bottomRow)\n",
        "\n",
        "# create an entrance and exit in the maze\n",
        "newMaze[0][top] = 0\n",
        "newMaze[newHeight - 1][bottom] = 0\n",
        "\n",
        "displayMaze(newMaze, True)\n",
        "\n",
        "\n"
      ]
    },
    {
      "cell_type": "code",
      "execution_count": 86,
      "metadata": {
        "id": "FsykhgQSNbS8"
      },
      "outputs": [],
      "source": [
        "def findNeighbors(node, maze):\n",
        "    # measure the height and width of the maze\n",
        "    height = maze.shape[0]\n",
        "    width = maze.shape[1]\n",
        "\n",
        "    # create a list to store the neighbors of the node\n",
        "    neighbors = []\n",
        "\n",
        "    # if the node is not on the top row\n",
        "    if node[0] != 0:\n",
        "        # if the node is not a wall\n",
        "        if maze[node[0] - 1][node[1]] == 0:\n",
        "            # add the node above to the neighbors list\n",
        "            neighbors.append((node[0] - 1, node[1]))\n",
        "\n",
        "    # if the node is not on the bottom row\n",
        "    if node[0] != height - 1:\n",
        "        # if the node is not a wall\n",
        "        if maze[node[0] + 1][node[1]] == 0:\n",
        "            # add the node below to the neighbors list\n",
        "            neighbors.append((node[0] + 1, node[1]))\n",
        "\n",
        "    # if the node is not on the left side\n",
        "    if node[1] != 0:\n",
        "        # if the node is not a wall\n",
        "        if maze[node[0]][node[1] - 1] == 0:\n",
        "            # add the node to the left to the neighbors list\n",
        "            neighbors.append((node[0], node[1] - 1))\n",
        "\n",
        "    # if the node is not on the right side\n",
        "    if node[1] != width - 1:\n",
        "        # if the node is not a wall\n",
        "        if maze[node[0]][node[1] + 1] == 0:\n",
        "            # add the node to the right to the neighbors list\n",
        "            neighbors.append((node[0], node[1] + 1))\n",
        "\n",
        "    # return the neighbors list\n",
        "    return neighbors"
      ]
    },
    {
      "cell_type": "code",
      "execution_count": 87,
      "metadata": {
        "id": "VTDn8NRrNbS9"
      },
      "outputs": [],
      "source": [
        "\n",
        "# animate the solving of the maze using BFS by taking a screenshot of each step and saving it to a folder and at the end creating a video of the screenshots to show the solving of the maze\n",
        "def BFS(maze, bfsTime):\n",
        "\n",
        "    # used to measure the time it takes to run BFS\n",
        "    start_time = time.time()\n",
        "\n",
        "    # measure the height and width of the maze\n",
        "    height = maze.shape[0]\n",
        "    width = maze.shape[1]\n",
        "\n",
        "    # find the entrance and exit of the maze in the first and last row\n",
        "    for i in range(width):\n",
        "        if maze[0][i] == 0:\n",
        "            start = (0, i)\n",
        "        if maze[height - 1][i] == 0:\n",
        "            end = (height - 1, i)\n",
        "\n",
        "    # create a queue to store the nodes to be visited\n",
        "    queue = []\n",
        "    # add the start node to the queue\n",
        "    queue.append(start)\n",
        "\n",
        "    visited = []\n",
        "    # create a dictionary to store the parent of each node\n",
        "    parent = {}\n",
        "    # set the parent of the start node to None\n",
        "    parent[start] = None\n",
        "\n",
        "    # while the queue is not empty\n",
        "    while queue:\n",
        "        # remove the first node from the queue\n",
        "        node = queue.pop(0)\n",
        "\n",
        "        # if the node is the end node\n",
        "        if node == end:\n",
        "            # break out of the loop\n",
        "            break\n",
        "\n",
        "        # if the node has not been visited\n",
        "        if node not in visited:\n",
        "            # add the node to the visited list\n",
        "            visited.append(node)\n",
        "\n",
        "            # find the neighbors of the node\n",
        "            neighbors = findNeighbors(node, maze)\n",
        "\n",
        "            # for each neighbor of the node\n",
        "            for neighbor in neighbors:\n",
        "                # if the neighbor has not been visited\n",
        "                if neighbor not in visited:\n",
        "                    # add the neighbor to the queue\n",
        "                    queue.append(neighbor)\n",
        "                    # set the parent of the neighbor to the node\n",
        "                    parent[neighbor] = node\n",
        "\n",
        "        # create a copy of the maze\n",
        "        mazeCopy = maze.copy()\n",
        "        for v in visited:\n",
        "            mazeCopy[v[0]][v[1]] = 2 \n",
        "\n",
        "        for q in queue:\n",
        "            mazeCopy[q[0]][q[1]] = 3 \n",
        "\n",
        "        displayMaze(mazeCopy, False)\n",
        "        plt.savefig(\"BFS/\" + str(len(visited)) + \".png\")\n",
        "        plt.close()\n",
        "\n",
        "    # This will be used to store the path from start to end\n",
        "    path = []\n",
        "\n",
        "    # Add the end node to the path\n",
        "    path.append(end)\n",
        "\n",
        "    # Check if the end node has a parent\n",
        "    while end in parent:\n",
        "        # If the end node has a parent, get the parent\n",
        "        end = parent[end]\n",
        "        # Add the parent to the path list\n",
        "        path.append(end)\n",
        "\n",
        "    # Reverse the path list\n",
        "    path.reverse()\n",
        "    path.pop(0)\n",
        "    print(path)\n",
        "    # This code creates a copy of the maze and sets the path to be colored. It then displays the image and saves it in the BFS folder with a name corresponding to the number of nodes visited.\n",
        "\n",
        "    # measure the time it takes to run BFS\n",
        "    end_time = time.time()\n",
        "    elapsed_time = end_time - start_time\n",
        "    bfsTime.append(elapsed_time)\n",
        "    print(f\"Elapsed time for Breadth-First Search: {elapsed_time}\")\n",
        "\n",
        "    # Create a copy of the maze\n",
        "    mazeCopy = maze.copy()\n",
        "\n",
        "    currentNumFiles = len(os.listdir(\"BFS\"))\n",
        "\n",
        "\n",
        "    # For each node in the path\n",
        "    for node in path:\n",
        "        # If the node is not the start node\n",
        "        if node != start:\n",
        "            # Set the node to be colored\n",
        "            mazeCopy[node[0]][node[1]] = 10 \n",
        "            # Display the maze in the background and add the screenshot to the BFS folder with a name corresponding to the number of nodes visited plus the initial number of files in the BFS folder\n",
        "            displayMaze(mazeCopy, False)\n",
        "            plt.savefig(\"BFS/\" + str(currentNumFiles + len(path) - path.index(node)) + \".png\")\n",
        "            plt.close()\n",
        "        \n",
        "    \n",
        "\n",
        "    \n",
        "    # Call the createMP4 function to create a video of the screenshots with the parameters of the name of the file and the folder the screenshots are in\n",
        "    createMP4(\"BFS\", \"BFS\")\n",
        "\n",
        "# BFS(newMaze, bfsTime)\n"
      ]
    },
    {
      "cell_type": "code",
      "execution_count": 88,
      "metadata": {
        "id": "ZVtGBd-lNbS9"
      },
      "outputs": [],
      "source": [
        "# animate the solving of the maze using DFS by taking a screenshot of each step and saving it to a folder and at the end creating a video of the screenshots to show the solving of the maze\n",
        "def DFS(maze, dfsTime):\n",
        "    # used to measure the time it takes to run DFS\n",
        "    start_time = time.time()\n",
        "\n",
        "    # measure the height and width of the maze\n",
        "    height = maze.shape[0]\n",
        "    width = maze.shape[1]\n",
        "    # find the entrance and exit of the maze in the first and last row\n",
        "    for i in range(width):\n",
        "        if maze[0][i] == 0:\n",
        "            start = (0, i)\n",
        "        if maze[height - 1][i] == 0:\n",
        "            end = (height - 1, i)\n",
        "    \n",
        "#    create a stack to store the nodes to be visited\n",
        "    stack = []\n",
        "    # add the start node to the stack\n",
        "    stack.append(start)\n",
        "\n",
        "    visited = []\n",
        "    # create a dictionary to store the parent of each node\n",
        "    parent = {}\n",
        "    # set the parent of the start node to None\n",
        "    parent[start] = None\n",
        "    while stack:\n",
        "        node = stack.pop()\n",
        "        if node == end:\n",
        "            break\n",
        "        # if the node has not been visited\n",
        "        if node not in visited:\n",
        "            # add the node to the visited list\n",
        "            visited.append(node)\n",
        "\n",
        "            # find the neighbors of the node\n",
        "            neighbors = findNeighbors(node, maze)\n",
        "\n",
        "            # for each neighbor of the node\n",
        "            for neighbor in neighbors:\n",
        "                # if the neighbor has not been visited\n",
        "                if neighbor not in visited:\n",
        "                    # add the neighbor to the stack\n",
        "                    stack.append(neighbor)\n",
        "                    # set the parent of the neighbor to the node\n",
        "                    parent[neighbor] = node\n",
        "\n",
        "                # if the neighbor is the end node\n",
        "                if neighbor == end:\n",
        "                    # break out of the loop\n",
        "                    break\n",
        "\n",
        "        # create a copy of the maze\n",
        "        mazeCopy = maze.copy()\n",
        "        # for each node in the maze path\n",
        "        for v in visited:\n",
        "            # highlight the node\n",
        "            mazeCopy[v[0]][v[1]] = 2 \n",
        "        # for the current node highlight it in a different color to show that it is the current node\n",
        "        for s in stack:\n",
        "            mazeCopy[s[0]][s[1]] = 3 \n",
        "\n",
        "        displayMaze(mazeCopy, False)\n",
        "        plt.savefig(\"DFS/\" + str(len(visited)) + \".png\")\n",
        "        plt.close()\n",
        "\n",
        "    path = []\n",
        "    path.append(end)\n",
        "    while end in parent:\n",
        "        end = parent[end]\n",
        "        path.append(end)\n",
        "    path.reverse()\n",
        "    path.pop(0)\n",
        "\n",
        "    # measure the time it takes to run DFS\n",
        "    end_time = time.time()\n",
        "    elapsed_time = end_time - start_time\n",
        "    dfsTime.append(elapsed_time)\n",
        "    print(f\"Elapsed time for Depth-First Search: {elapsed_time}\")\n",
        "    \n",
        "    mazeCopy = maze.copy()\n",
        "    currentNumFiles = len(os.listdir(\"DFS\"))\n",
        "    for node in path:\n",
        "        if node != start:\n",
        "            mazeCopy[node[0]][node[1]] = 10 \n",
        "            displayMaze(mazeCopy, False)\n",
        "            plt.savefig(\"DFS/\" + str(currentNumFiles + len(path) - path.index(node)) + \".png\")\n",
        "            plt.close()\n",
        "\n",
        "    createMP4(\"DFS\", \"DFS\")\n",
        "\n",
        "# DFS(newMaze, dfsTime)"
      ]
    },
    {
      "cell_type": "code",
      "execution_count": 89,
      "metadata": {
        "colab": {
          "base_uri": "https://localhost:8080/"
        },
        "id": "KnjQTU8GTVfS",
        "outputId": "16f541c5-9cc7-4434-effd-399cf074a568"
      },
      "outputs": [
        {
          "name": "stdout",
          "output_type": "stream",
          "text": [
            "[(0, 3), (1, 3), (1, 2), (1, 1), (2, 1), (3, 1), (4, 1), (5, 1), (6, 1), (7, 1), (7, 2), (7, 3), (8, 3), (9, 3), (9, 4), (9, 5), (9, 6), (9, 7), (9, 8), (9, 9), (10, 9)]\n",
            "Elapsed time for Breadth-First Search: 1.9067060947418213\n"
          ]
        },
        {
          "name": "stderr",
          "output_type": "stream",
          "text": [
            "WARNING:imageio_ffmpeg:IMAGEIO FFMPEG_WRITER WARNING: input image is not divisible by macro_block_size=16, resizing from (1000, 500) to (1008, 512) to ensure video compatibility with most codecs and players. To prevent resizing, make your input image divisible by the macro_block_size or set the macro_block_size to 1 (risking incompatibility).\n"
          ]
        },
        {
          "name": "stdout",
          "output_type": "stream",
          "text": [
            "[(0, 3), (1, 3), (1, 2), (1, 1), (2, 1), (3, 1), (4, 1), (5, 1), (6, 1), (7, 1), (7, 2), (7, 3), (8, 3), (9, 3), (9, 4), (9, 5), (9, 6), (9, 7), (9, 8), (9, 9), (10, 9)]\n",
            "Elapsed time for Breadth-First Search: 3.7299818992614746\n"
          ]
        },
        {
          "name": "stderr",
          "output_type": "stream",
          "text": [
            "WARNING:imageio_ffmpeg:IMAGEIO FFMPEG_WRITER WARNING: input image is not divisible by macro_block_size=16, resizing from (1000, 500) to (1008, 512) to ensure video compatibility with most codecs and players. To prevent resizing, make your input image divisible by the macro_block_size or set the macro_block_size to 1 (risking incompatibility).\n"
          ]
        },
        {
          "name": "stdout",
          "output_type": "stream",
          "text": [
            "[(0, 3), (1, 3), (1, 2), (1, 1), (2, 1), (3, 1), (4, 1), (5, 1), (6, 1), (7, 1), (7, 2), (7, 3), (8, 3), (9, 3), (9, 4), (9, 5), (9, 6), (9, 7), (9, 8), (9, 9), (10, 9)]\n",
            "Elapsed time for Breadth-First Search: 1.9235038757324219\n"
          ]
        },
        {
          "name": "stderr",
          "output_type": "stream",
          "text": [
            "WARNING:imageio_ffmpeg:IMAGEIO FFMPEG_WRITER WARNING: input image is not divisible by macro_block_size=16, resizing from (1000, 500) to (1008, 512) to ensure video compatibility with most codecs and players. To prevent resizing, make your input image divisible by the macro_block_size or set the macro_block_size to 1 (risking incompatibility).\n"
          ]
        },
        {
          "name": "stdout",
          "output_type": "stream",
          "text": [
            "[(0, 3), (1, 3), (1, 2), (1, 1), (2, 1), (3, 1), (4, 1), (5, 1), (6, 1), (7, 1), (7, 2), (7, 3), (8, 3), (9, 3), (9, 4), (9, 5), (9, 6), (9, 7), (9, 8), (9, 9), (10, 9)]\n",
            "Elapsed time for Breadth-First Search: 2.68117618560791\n"
          ]
        },
        {
          "name": "stderr",
          "output_type": "stream",
          "text": [
            "WARNING:imageio_ffmpeg:IMAGEIO FFMPEG_WRITER WARNING: input image is not divisible by macro_block_size=16, resizing from (1000, 500) to (1008, 512) to ensure video compatibility with most codecs and players. To prevent resizing, make your input image divisible by the macro_block_size or set the macro_block_size to 1 (risking incompatibility).\n"
          ]
        },
        {
          "name": "stdout",
          "output_type": "stream",
          "text": [
            "[(0, 3), (1, 3), (1, 2), (1, 1), (2, 1), (3, 1), (4, 1), (5, 1), (6, 1), (7, 1), (7, 2), (7, 3), (8, 3), (9, 3), (9, 4), (9, 5), (9, 6), (9, 7), (9, 8), (9, 9), (10, 9)]\n",
            "Elapsed time for Breadth-First Search: 1.8674414157867432\n"
          ]
        },
        {
          "name": "stderr",
          "output_type": "stream",
          "text": [
            "WARNING:imageio_ffmpeg:IMAGEIO FFMPEG_WRITER WARNING: input image is not divisible by macro_block_size=16, resizing from (1000, 500) to (1008, 512) to ensure video compatibility with most codecs and players. To prevent resizing, make your input image divisible by the macro_block_size or set the macro_block_size to 1 (risking incompatibility).\n"
          ]
        },
        {
          "name": "stdout",
          "output_type": "stream",
          "text": [
            "Elapsed time for Depth-First Search: 1.8163306713104248\n"
          ]
        },
        {
          "name": "stderr",
          "output_type": "stream",
          "text": [
            "WARNING:imageio_ffmpeg:IMAGEIO FFMPEG_WRITER WARNING: input image is not divisible by macro_block_size=16, resizing from (1000, 500) to (1008, 512) to ensure video compatibility with most codecs and players. To prevent resizing, make your input image divisible by the macro_block_size or set the macro_block_size to 1 (risking incompatibility).\n"
          ]
        },
        {
          "name": "stdout",
          "output_type": "stream",
          "text": [
            "Elapsed time for Depth-First Search: 2.2266623973846436\n"
          ]
        },
        {
          "name": "stderr",
          "output_type": "stream",
          "text": [
            "WARNING:imageio_ffmpeg:IMAGEIO FFMPEG_WRITER WARNING: input image is not divisible by macro_block_size=16, resizing from (1000, 500) to (1008, 512) to ensure video compatibility with most codecs and players. To prevent resizing, make your input image divisible by the macro_block_size or set the macro_block_size to 1 (risking incompatibility).\n"
          ]
        },
        {
          "name": "stdout",
          "output_type": "stream",
          "text": [
            "Elapsed time for Depth-First Search: 1.4191906452178955\n"
          ]
        },
        {
          "name": "stderr",
          "output_type": "stream",
          "text": [
            "WARNING:imageio_ffmpeg:IMAGEIO FFMPEG_WRITER WARNING: input image is not divisible by macro_block_size=16, resizing from (1000, 500) to (1008, 512) to ensure video compatibility with most codecs and players. To prevent resizing, make your input image divisible by the macro_block_size or set the macro_block_size to 1 (risking incompatibility).\n"
          ]
        },
        {
          "name": "stdout",
          "output_type": "stream",
          "text": [
            "Elapsed time for Depth-First Search: 1.4440960884094238\n"
          ]
        },
        {
          "name": "stderr",
          "output_type": "stream",
          "text": [
            "WARNING:imageio_ffmpeg:IMAGEIO FFMPEG_WRITER WARNING: input image is not divisible by macro_block_size=16, resizing from (1000, 500) to (1008, 512) to ensure video compatibility with most codecs and players. To prevent resizing, make your input image divisible by the macro_block_size or set the macro_block_size to 1 (risking incompatibility).\n"
          ]
        },
        {
          "name": "stdout",
          "output_type": "stream",
          "text": [
            "Elapsed time for Depth-First Search: 1.435513973236084\n"
          ]
        },
        {
          "name": "stderr",
          "output_type": "stream",
          "text": [
            "WARNING:imageio_ffmpeg:IMAGEIO FFMPEG_WRITER WARNING: input image is not divisible by macro_block_size=16, resizing from (1000, 500) to (1008, 512) to ensure video compatibility with most codecs and players. To prevent resizing, make your input image divisible by the macro_block_size or set the macro_block_size to 1 (risking incompatibility).\n"
          ]
        }
      ],
      "source": [
        "for i in range(5):\n",
        "  BFS(newMaze, bfsTime)\n",
        "  \n",
        "for i in range(5):\n",
        "  DFS(newMaze, dfsTime)"
      ]
    },
    {
      "cell_type": "code",
      "execution_count": 90,
      "metadata": {
        "colab": {
          "base_uri": "https://localhost:8080/",
          "height": 509
        },
        "id": "GD1prdUaQVNr",
        "outputId": "0d3de939-9fa0-417e-bed4-8b6a7bacf7da"
      },
      "outputs": [
        {
          "name": "stdout",
          "output_type": "stream",
          "text": [
            "DFS Times: [1.8163306713104248, 2.2266623973846436, 1.4191906452178955, 1.4440960884094238, 1.435513973236084]\n",
            "BFS Times: [1.9067060947418213, 3.7299818992614746, 1.9235038757324219, 2.68117618560791, 1.8674414157867432]\n"
          ]
        },
        {
          "data": {
            "image/png": "[encoded data removed]",
            "text/plain": [
              "<Figure size 640x480 with 1 Axes>"
            ]
          },
          "metadata": {},
          "output_type": "display_data"
        }
      ],
      "source": [
        "print(\"DFS Times:\", dfsTime)\n",
        "print(\"BFS Times:\", bfsTime)\n",
        "\n",
        "# X-axis labels\n",
        "labels = ['Search 1', 'Search 2', 'Search 3', 'Search 4', 'Search 5']\n",
        "\n",
        "# Set the width of each bar\n",
        "barWidth = 0.35\n",
        "\n",
        "# Set the position of each bar on the X-axis\n",
        "r1 = np.arange(len(bfsTime))\n",
        "r2 = [x + barWidth for x in r1]\n",
        "\n",
        "# Define consistent colors for each search\n",
        "bfsColor = ['#3366CC', '#3366CC', '#3366CC', '#3366CC', '#3366CC']\n",
        "dfsColor = ['#109618', '#109618', '#109618', '#109618', '#109618']\n",
        "\n",
        "# Plotting the bar graph\n",
        "plt.bar(r1, bfsTime, color=bfsColor, width=barWidth, edgecolor='white', label='BFS')\n",
        "plt.bar(r2, dfsTime, color=dfsColor, width=barWidth, edgecolor='white', label='DFS')\n",
        "\n",
        "# Adding labels and title\n",
        "plt.xlabel('Search Algorithm')\n",
        "plt.ylabel('Time (in seconds)')\n",
        "plt.title(f'BFS vs DFS Time Comparison ({inputHeight}x{inputWidth} maze)')\n",
        "\n",
        "# Adding X-axis labels\n",
        "plt.xticks([r + barWidth/2 for r in range(len(bfsTime))], labels)\n",
        "\n",
        "# Adding legend\n",
        "plt.legend()\n",
        "\n",
        "# Displaying the plot\n",
        "plt.show()"
      ]
    }
  ],
  "metadata": {
    "colab": {
      "provenance": []
    },
    "kernelspec": {
      "display_name": "env",
      "language": "python",
      "name": "python3"
    },
    "language_info": {
      "codemirror_mode": {
        "name": "ipython",
        "version": 3
      },
      "file_extension": ".py",
      "mimetype": "text/x-python",
      "name": "python",
      "nbconvert_exporter": "python",
      "pygments_lexer": "ipython3",
      "version": "3.10.2"
    },
    "orig_nbformat": 4
  },
  "nbformat": 4,
  "nbformat_minor": 0
}
